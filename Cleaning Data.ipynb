{
 "cells": [
  {
   "cell_type": "code",
   "execution_count": 1,
   "id": "658a2338",
   "metadata": {},
   "outputs": [],
   "source": [
    "##Logan l.\n",
    "##Clean data\n",
    "\n",
    "##importing required packages for this exploratory data analysis\n",
    "import pandas as pd\n",
    "\n",
    "##importing the 2022 csv as a df\n",
    "df = pd.read_csv(\"armslengthsales_2022_valid.csv\")\n",
    "\n",
    "##removal of unwanted data\n",
    "df = df.drop(columns=['taxkey', 'CondoProject','nbhd','Style','Extwall','Stories','Year_Built','Rooms','FinishedSqft','Units','Bdrms','Fbath','Hbath','Lotsize'])\n",
    "\n",
    "##exporting 2022 clean df as csv\n",
    "df.to_csv('HistoricRealEstate(2022).csv', index = True)"
   ]
  }
 ],
 "metadata": {
  "kernelspec": {
   "display_name": "Python 3 (ipykernel)",
   "language": "python",
   "name": "python3"
  },
  "language_info": {
   "codemirror_mode": {
    "name": "ipython",
    "version": 3
   },
   "file_extension": ".py",
   "mimetype": "text/x-python",
   "name": "python",
   "nbconvert_exporter": "python",
   "pygments_lexer": "ipython3",
   "version": "3.7.12"
  }
 },
 "nbformat": 4,
 "nbformat_minor": 5
}
