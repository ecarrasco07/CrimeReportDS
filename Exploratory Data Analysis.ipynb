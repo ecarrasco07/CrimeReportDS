{
 "cells": [
  {
   "cell_type": "code",
   "execution_count": 1,
   "id": "3c3af8b0",
   "metadata": {},
   "outputs": [
    {
     "name": "stdout",
     "output_type": "stream",
     "text": [
      "Enter DB Password········\n",
      "Enter Wallet Password········\n",
      "Successfully connected to Oracle Database\n",
      "Successfully imported table from Oracle Database\n"
     ]
    }
   ],
   "source": [
    "##Logan Lauton\n",
    "##Exploratory Data Analysis\n",
    "\n",
    "##importing required packages for this exploratory data analysis\n",
    "import requests\n",
    "import oracledb\n",
    "import getpass\n",
    "import cx_Oracle\n",
    "import os\n",
    "import pandas as pd\n",
    "import matplotlib.pyplot as plt\n",
    "\n",
    "##connecting to the db as we did in grab_data.ipynb\n",
    "password = getpass.getpass(\"Enter DB Password\")\n",
    "wallet_password = getpass.getpass(\"Enter Wallet Password\")\n",
    "\n",
    "os.environ.get('TNS_ADMIN')\n",
    "connection = oracledb.connect(\n",
    "    user=\"admin\",\n",
    "    password=password,\n",
    "    dsn = \"ltl3y0m4d7of29l1_high\",\n",
    "    config_dir=\"./config\",\n",
    "    wallet_location=\"./config\",\n",
    "    wallet_password=wallet_password)\n",
    "print(\"Successfully connected to Oracle Database\")\n",
    "\n",
    "cursor = connection.cursor()\n",
    "\n",
    "##selecting everything from the calls table and creating a df\n",
    "rs = cursor.execute(\"SELECT * FROM CALLS\")\n",
    "df = pd.DataFrame(rs.fetchall())\n",
    "print('Successfully imported table from Oracle Database')"
   ]
  },
  {
   "cell_type": "code",
   "execution_count": 2,
   "id": "23261f67",
   "metadata": {},
   "outputs": [],
   "source": [
    "##properly naming the columns\n",
    "df.columns = ['Call Number' , 'Date/Time' , 'Address' , 'District' , 'Nature of Call' , 'Status' , 'Latitude' , 'Longitude']"
   ]
  },
  {
   "cell_type": "code",
   "execution_count": 3,
   "id": "1f65015a",
   "metadata": {},
   "outputs": [
    {
     "data": {
      "image/png": "[encoded data removed]",
      "text/plain": [
       "<Figure size 720x360 with 1 Axes>"
      ]
     },
     "metadata": {
      "needs_background": "light"
     },
     "output_type": "display_data"
    }
   ],
   "source": [
    "##counting occurrences of District in the df\n",
    "occur = df.groupby(['District']).size()\n",
    "\n",
    "##creating my x and y variables for a basic bar chart\n",
    "##x is the district number\n",
    "##y is the number of calls that occurs shown above\n",
    "x = [1 , 2 , 3 , 4 , 5 , 6 , 7]\n",
    "y = occur[0:7]\n",
    " \n",
    "##function to add value labels to bar chart\n",
    "def addlabels(x,y):\n",
    "    for i in range(len(x)):\n",
    "        plt.text(i+1, y[i]//2, y[i], ha = 'center', color = 'white')    \n",
    "        \n",
    "##building basic bar chart        \n",
    "plt.figure(figsize = (10,5))\n",
    "plt.bar(x , y , color = 'lightblue')\n",
    "plt.title('Number of Calls per Police District')\n",
    "plt.xlabel('District')\n",
    "plt.ylabel('# of calls')\n",
    "\n",
    "##using function to add numbers to plot\n",
    "addlabels(x , y)\n",
    "\n",
    "##showing the final plot\n",
    "plt.show()"
   ]
  },
  {
   "cell_type": "markdown",
   "id": "9f2f8699",
   "metadata": {},
   "source": [
    "Still need to add the labels to graph below "
   ]
  },
  {
   "cell_type": "code",
   "execution_count": 75,
   "id": "573adefa",
   "metadata": {},
   "outputs": [
    {
     "data": {
      "image/png": "[encoded data removed]",
      "text/plain": [
       "<Figure size 720x360 with 1 Axes>"
      ]
     },
     "metadata": {
      "needs_background": "light"
     },
     "output_type": "display_data"
    }
   ],
   "source": [
    "##gathering the number of occurences of specific crimes\n",
    "occur_noc = df.groupby(['Nature of Call']).size()\n",
    "##sorting the occurences in descending order\n",
    "occur_noc = occur_noc.sort_values(ascending = False)\n",
    "##placing the data into a df\n",
    "noc_occur = pd.DataFrame(occur_noc)\n",
    "##properly naming the column\n",
    "noc_occur.columns = ['Number of Occurences']\n",
    "\n",
    "##creating my x and y variables for a basic bar chart\n",
    "##x is the Occurence Type\n",
    "##y is the number of calls that occurs shown above\n",
    "x_noc = list(noc_occur[0:9].index.values)\n",
    "for i in list(noc_occur[0:9]):\n",
    "    # show the list of values  \n",
    "    y_noc = noc_occur[i].tolist()\n",
    "\n",
    "##building basic bar chart        \n",
    "plt.figure(figsize = (10,5))\n",
    "plt.barh(x_noc , y_noc[0:9] , color = 'lightblue')\n",
    "plt.title('Number of Call Occurences')\n",
    "plt.xlabel('# of calls')\n",
    "plt.ylabel('Call Type')\n",
    "\n",
    "##showing the final plot\n",
    "plt.show()"
   ]
  },
  {
   "cell_type": "code",
   "execution_count": 17,
   "id": "eabda184",
   "metadata": {},
   "outputs": [],
   "source": [
    "##Test to determine ethical considerations - Logan\n",
    "##On February 7th, 2023 at appriximately 1:15am Milwaukee Police Officer \n",
    "##Peter Jerving was shot and killed in action. This is test is to determine \n",
    "##if we are able to find the call that he responded to earlier in the night\n",
    "##and if we are able to what ethical quesitons need to be asked regarding \n",
    "## that.\n",
    "\n",
    "##removing all non-district 4 calls as that was Officer Jerving's precinct\n",
    "ethic = df.drop(df[df.District != '4'].index)\n",
    "\n",
    "##seperation of Date & Time into seperate columns to go off of reports from\n",
    "##media channels\n",
    "ethic['Date'] = ethic['Date/Time'].str.split('\\s+').str[0]\n",
    "ethic['Time'] = ethic['Date/Time'].str.split('\\s+').str[1]\n",
    "\n",
    "##selecting only the 6th and 7th of Feb as this was the time frame that\n",
    "##officer Jerving would be responding to a call\n",
    "ethic_06 = ethic[(ethic.Date == '02/06/2023')]\n",
    "ethic_07 = ethic[(ethic.Date == '02/07/2023')]\n",
    "ethic = ethic_06\n",
    "ethic = ethic.append(ethic_07)\n",
    "\n",
    "\n",
    "##according to https://news.yahoo.com/news/milwaukee-police-officer-shot-killed-191640738.html?guccounter=1&guce_referrer=aHR0cHM6Ly9kdWNrZHVja2dvLmNvbS8&guce_referrer_sig=AQAAAJDKo_69SdT2K6T9yiBd87LklJWdolHnCY67y_FcvJNjnuM2JagHigHu8ORBmVOR37CNW5tV4QEiDZze6On-D1Z9JLth3jgL3vzTm5iFkuOIiSm0vbEJ4gq2W5TG5a_aU9VnsPLTn2iU_qCpBzjqxxDLSMBeGhYuMGdC-9a2kvTF\n",
    "##Officers were responding to the area of the 2700 block of \n",
    "##South 14th Street to check for a man wanted in connection with a robbery \n",
    "##that occurred at 11:25 a.m. Monday in the 3600 block of West Good Hope \n",
    "##Road.\n",
    "\n",
    "##as we can see Call Number 230371702 has the address of 3632 W GOOD HOPE RD\n",
    "##and the nature of call is a robbery, implying that this is the call that \n",
    "##officer Jerving responded too.\n",
    "Officer_Jerving = ethic[(ethic['Call Number'] == '230371702')]\n",
    "\n",
    "##I will export the csv of the ethic df to further investigate the logs\n",
    "##and will determine if any further code/cleaning is needed.\n",
    "ethic.to_csv('Ethical Issues.csv', index = True)\n",
    "\n",
    "##after exporting and reviewing the csv I, Logan Lauton, have determined \n",
    "##that there was only one relevant call log, labeled above as \n",
    "##Officer_Jerving. I will discuss further with Dr. Michael Zimmer to\n",
    "##determine where to go forward, and whether or not to share the csv in the\n",
    "##git repo."
   ]
  }
 ],
 "metadata": {
  "kernelspec": {
   "display_name": "Python 3 (ipykernel)",
   "language": "python",
   "name": "python3"
  },
  "language_info": {
   "codemirror_mode": {
    "name": "ipython",
    "version": 3
   },
   "file_extension": ".py",
   "mimetype": "text/x-python",
   "name": "python",
   "nbconvert_exporter": "python",
   "pygments_lexer": "ipython3",
   "version": "3.7.12"
  }
 },
 "nbformat": 4,
 "nbformat_minor": 5
}
